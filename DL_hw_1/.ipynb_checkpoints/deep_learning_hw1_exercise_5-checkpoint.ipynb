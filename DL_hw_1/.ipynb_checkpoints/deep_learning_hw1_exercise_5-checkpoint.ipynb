{
 "cells": [
  {
   "cell_type": "markdown",
   "metadata": {},
   "source": [
    "## Andrew Dai - awd522\n",
    "### EECS 495 - Watt, Borhani\n",
    "#### 1/26/2018 - Winter 2018"
   ]
  },
  {
   "cell_type": "markdown",
   "metadata": {},
   "source": [
    "# Deep learning from scratch: homework 1"
   ]
  },
  {
   "cell_type": "markdown",
   "metadata": {},
   "source": [
    "### General instructions\n",
    "\n",
    "Complete the exericse listed below in this Jupyter notebook - leaving all of your code in Python cells in the notebook itself.  Feel free to add any necessary cells.  "
   ]
  },
  {
   "cell_type": "markdown",
   "metadata": {},
   "source": [
    "### When submitting this homework:\n",
    "\n",
    "**Make sure you have put your name at the top of each file**\n",
    "    \n",
    "**Make sure all output is present in your notebook prior to submission**\n",
    "\n",
    "**If possible please do not zip your files when uploading to canvas**"
   ]
  },
  {
   "cell_type": "markdown",
   "metadata": {},
   "source": [
    "---"
   ]
  },
  {
   "cell_type": "code",
   "execution_count": 1,
   "metadata": {},
   "outputs": [],
   "source": [
    "# import necessary library for this exercise\n",
    "import autograd.numpy as np   \n",
    "from autograd import value_and_grad \n",
    "import matplotlib.pyplot as plt"
   ]
  },
  {
   "cell_type": "markdown",
   "metadata": {},
   "source": [
    "#### <span style=\"color:#a50e3e;\">Exercise 5. </span>   Perform two-class classification on a breast cancer dataset"
   ]
  },
  {
   "cell_type": "markdown",
   "metadata": {},
   "source": [
    "In this exercise you will repeat the experiment shown in [Section 9.4 of the class notes](https://jermwatt.github.io/mlrefined/blog_posts/8_Linear_regression/8_4_feature_scaling.html) comparing a run of gradient descent on standard and normalized data for two class classification using a real N=8 input breast cancer dataset, [a description of which you can find here](https://archive.ics.uci.edu/ml/datasets/breast+cancer+wisconsin+(original).  You should repeat this experiment precisely: including using the same number of steps for each run, the same steplength values and initializations, and by producing the same cost funciton / misclassification history plots for each run of gradient descent.  This dataset is loaded in the cell below."
   ]
  },
  {
   "cell_type": "code",
   "execution_count": 2,
   "metadata": {},
   "outputs": [],
   "source": [
    "# data input\n",
    "data = np.loadtxt('breast_cancer_data.csv',delimiter = ',')\n",
    "\n",
    "# get input and output of dataset\n",
    "x = data[:,:-1].T\n",
    "y = data[:,-1:] "
   ]
  },
  {
   "cell_type": "markdown",
   "metadata": {},
   "source": [
    "Note that you can find effecient `Python` implementations of both the softmax cost function [in Section 9.1.2](https://jermwatt.github.io/mlrefined/blog_posts/9_Linear_twoclass_classification/9_1_Logistic_regression.html) and the counting cost (for producing the number of misclassifications) [in Section 9.1.4](https://jermwatt.github.io/mlrefined/blog_posts/9_Linear_twoclass_classification/9_1_Logistic_regression.html) of the course notes.  Use these to produce both a plot of the cost function and misclassification count history for each run of gradient descent as shown in the example."
   ]
  },
  {
   "cell_type": "markdown",
   "metadata": {},
   "source": [
    "## Function Definitions"
   ]
  },
  {
   "cell_type": "code",
   "execution_count": 3,
   "metadata": {},
   "outputs": [],
   "source": [
    "## GRADIENT DESCENT CODE\n",
    "\n",
    "# using an automatic differentiator - like the one imported via the statement below - makes coding up gradient descent a breeze\n",
    "\n",
    "# gradient descent function - inputs: g (input function), alpha (steplength parameter), max_its (maximum number of iterations), w (initialization)\n",
    "def gradient_descent(g,alpha_choice,max_its,w):\n",
    "    # compute the gradient function of our input function - note this is a function too\n",
    "    # that - when evaluated - returns both the gradient and function evaluations (remember\n",
    "    # as discussed in Chapter 3 we always ge the function evaluation 'for free' when we use\n",
    "    # an Automatic Differntiator to evaluate the gradient)\n",
    "    gradient = value_and_grad(g)\n",
    "\n",
    "    # run the gradient descent loop\n",
    "    weight_history = []      # container for weight history\n",
    "    cost_history = []        # container for corresponding cost function history\n",
    "    alpha = 0\n",
    "    for k in range(1,max_its+1):\n",
    "        # check if diminishing steplength rule used\n",
    "        if alpha_choice == 'diminishing':\n",
    "            alpha = 1/float(k)\n",
    "        else:\n",
    "            alpha = alpha_choice\n",
    "        \n",
    "        # evaluate the gradient, store current weights and cost function value\n",
    "        cost_eval,grad_eval = gradient(w)\n",
    "        weight_history.append(w)\n",
    "        cost_history.append(cost_eval)\n",
    "\n",
    "        # take gradient descent step\n",
    "        w = w - alpha*grad_eval\n",
    "            \n",
    "    # collect final weights\n",
    "    weight_history.append(w)\n",
    "    # compute final cost function value via g itself (since we aren't computing \n",
    "    # the gradient at the final step we don't get the final cost function value \n",
    "    # via the Automatic Differentiatoor) \n",
    "    cost_history.append(g(w))  \n",
    "    return weight_history,cost_history\n",
    "\n",
    "\n",
    "## LEAST SQUARES REGRESSION CODE\n",
    "\n",
    "# compute linear combination of input point\n",
    "def model(x,w):    \n",
    "    # stack a 1 onto the top of each input point all at once\n",
    "    o = np.ones((1,np.shape(x)[1]))\n",
    "    x = np.vstack((o,x))\n",
    "    \n",
    "    # compute linear combination and return\n",
    "    a = np.dot(x.T,w)\n",
    "    return a\n",
    "\n",
    "# an implementation of the least squares cost function for linear regression\n",
    "def least_squares(w):    \n",
    "    # compute the least squares cost\n",
    "    cost = np.sum((model(x,w) - y)**2) ## modification to use normalized x data\n",
    "    return cost/float(len(y))"
   ]
  },
  {
   "cell_type": "markdown",
   "metadata": {},
   "source": [
    "## Standard Data Code"
   ]
  },
  {
   "cell_type": "code",
   "execution_count": 4,
   "metadata": {},
   "outputs": [],
   "source": [
    "# the convex softmax cost function\n",
    "def softmax(w):\n",
    "    cost = np.sum(np.log(1 + np.exp(-y*model(x,w))))\n",
    "    return cost/float(len(y))\n",
    "\n",
    "# the counting cost function\n",
    "def counting_cost(w):\n",
    "    cost = np.sum((np.sign(model(x,w)) - y)**2)\n",
    "    return 0.25*cost "
   ]
  },
  {
   "cell_type": "code",
   "execution_count": 5,
   "metadata": {},
   "outputs": [],
   "source": [
    "g1 = softmax;\n",
    "w = 0.1*np.random.randn(x.shape[0]+1,1);\n",
    "max_its = 100;\n",
    "alpha_choice = 10**(-1);\n",
    "\n",
    "weight_history1, cost_history1 = gradient_descent(g1, alpha_choice, max_its, w)\n",
    "count_history1 = [counting_cost(v) for v in weight_history1]"
   ]
  },
  {
   "cell_type": "markdown",
   "metadata": {},
   "source": [
    "## Normalized Data Code"
   ]
  },
  {
   "cell_type": "code",
   "execution_count": 6,
   "metadata": {},
   "outputs": [],
   "source": [
    "def standard_normalizer(x):\n",
    "    # compute the mean and standard deviation of the input\n",
    "    x_means = np.mean(x,axis = 1)[:,np.newaxis]\n",
    "    x_stds = np.std(x,axis = 1)[:,np.newaxis]   \n",
    "\n",
    "    # create standard normalizer function based on input data statistics\n",
    "    normalizer = lambda data: (data - x_means)/x_stds\n",
    "    \n",
    "    # return normalizer and inverse_normalizer\n",
    "    return normalizer\n",
    "\n",
    "normalizer = standard_normalizer(x)\n",
    "x_normalized = normalizer(x)"
   ]
  },
  {
   "cell_type": "code",
   "execution_count": 7,
   "metadata": {},
   "outputs": [],
   "source": [
    "# the convex softmax cost function\n",
    "def softmax_normalized(w):\n",
    "    cost = np.sum(np.log(1 + np.exp(-y*model(x_normalized,w))))\n",
    "    return cost/float(len(y))\n",
    "\n",
    "# the counting cost function\n",
    "def counting_cost_normalized(w):\n",
    "    cost = np.sum((np.sign(model(x_normalized,w)) - y)**2)\n",
    "    return 0.25*cost "
   ]
  },
  {
   "cell_type": "code",
   "execution_count": 8,
   "metadata": {},
   "outputs": [],
   "source": [
    "g2 = softmax_normalized;\n",
    "alpha_choice2 = 1;\n",
    "\n",
    "weight_history2, cost_history2 = gradient_descent(g2, alpha_choice2, max_its, w)\n",
    "count_history2 = [counting_cost_normalized(v) for v in weight_history2]"
   ]
  },
  {
   "cell_type": "markdown",
   "metadata": {},
   "source": [
    "## Plotting Cost Functions and Misclassification History"
   ]
  },
  {
   "cell_type": "code",
   "execution_count": 9,
   "metadata": {},
   "outputs": [
    {
     "data": {
      "image/png": "[encoded data removed]",
      "text/plain": [
       "<matplotlib.figure.Figure at 0x1a01cad7c18>"
      ]
     },
     "metadata": {},
     "output_type": "display_data"
    }
   ],
   "source": [
    "from matplotlib import gridspec\n",
    "\n",
    "fig = plt.figure(figsize = (15,5));\n",
    "\n",
    "gs = gridspec.GridSpec(1,2);\n",
    "ax1 = plt.subplot(gs[0]);\n",
    "ax2 = plt.subplot(gs[1]);\n",
    "\n",
    "ax1.plot(cost_history1,'k');\n",
    "ax1.plot(cost_history2,'m')\n",
    "ax1.set_xlabel(r'step $\\mathbf{k}$');\n",
    "ax1.set_ylabel(r'$g(\\mathbf{w^k})$');\n",
    "ax1.set_title('cost function history');\n",
    "ax1.legend(['standard', 'normalized']);\n",
    "\n",
    "ax2.plot(count_history1,'k');\n",
    "ax2.plot(count_history2,'m');\n",
    "ax2.set_xlabel(r'step $\\mathbf{k}$');\n",
    "ax2.set_ylabel('num misclassifications');\n",
    "ax2.set_title('misclassification history');\n",
    "ax2.legend(['standard', 'normalized']);\n",
    "\n",
    "plt.show()"
   ]
  },
  {
   "cell_type": "code",
   "execution_count": null,
   "metadata": {},
   "outputs": [],
   "source": []
  }
 ],
 "metadata": {
  "anaconda-cloud": {},
  "kernelspec": {
   "display_name": "Python 3",
   "language": "python",
   "name": "python3"
  },
  "language_info": {
   "codemirror_mode": {
    "name": "ipython",
    "version": 3
   },
   "file_extension": ".py",
   "mimetype": "text/x-python",
   "name": "python",
   "nbconvert_exporter": "python",
   "pygments_lexer": "ipython3",
   "version": "3.6.4"
  },
  "toc": {
   "colors": {
    "hover_highlight": "#DAA520",
    "navigate_num": "#000000",
    "navigate_text": "#333333",
    "running_highlight": "#FF0000",
    "selected_highlight": "#FFD700",
    "sidebar_border": "#EEEEEE",
    "wrapper_background": "#FFFFFF"
   },
   "moveMenuLeft": true,
   "nav_menu": {
    "height": "30px",
    "width": "252px"
   },
   "navigate_menu": true,
   "number_sections": false,
   "sideBar": true,
   "threshold": 4,
   "toc_cell": false,
   "toc_section_display": "block",
   "toc_window_display": false,
   "widenNotebook": false
  }
 },
 "nbformat": 4,
 "nbformat_minor": 1
}
