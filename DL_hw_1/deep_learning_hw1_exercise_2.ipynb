{
 "cells": [
  {
   "cell_type": "markdown",
   "metadata": {},
   "source": [
    "# Deep learning from scratch: homework 1"
   ]
  },
  {
   "cell_type": "markdown",
   "metadata": {},
   "source": [
    "## Andrew Dai - awd522\n",
    "### EECS 495 - Watt, Borhani\n",
    "#### 1/26/2018 - Winter 2018"
   ]
  },
  {
   "cell_type": "markdown",
   "metadata": {},
   "source": [
    "### General instructions\n",
    "\n",
    "Complete the exericse listed below in this Jupyter notebook - leaving all of your code in Python cells in the notebook itself.  Feel free to add any necessary cells.  "
   ]
  },
  {
   "cell_type": "markdown",
   "metadata": {},
   "source": [
    "### When submitting this homework:\n",
    "\n",
    "**Make sure you have put your name at the top of each file**\n",
    "    \n",
    "**Make sure all output is present in your notebook prior to submission**\n",
    "\n",
    "**If possible please do not zip your files when uploading to canvas**"
   ]
  },
  {
   "cell_type": "markdown",
   "metadata": {},
   "source": [
    "---"
   ]
  },
  {
   "cell_type": "code",
   "execution_count": 1,
   "metadata": {},
   "outputs": [],
   "source": [
    "# import necessary library\n",
    "import autograd.numpy as np   \n",
    "from autograd import value_and_grad \n",
    "import matplotlib.pyplot as plt"
   ]
  },
  {
   "cell_type": "markdown",
   "metadata": {},
   "source": [
    "#### <span style=\"color:#a50e3e;\">Exercise 2. </span>  Use gradient descent to minimize a simple function, and tune your steplength by analyzing the cost function plot"
   ]
  },
  {
   "cell_type": "markdown",
   "metadata": {},
   "source": [
    "Copy the gradient descent code given in [Section 6.4 of the class notes](https://jermwatt.github.io/mlrefined/blog_posts/6_First_order_methods/6_4_Gradient_descent.html) into the cell below."
   ]
  },
  {
   "cell_type": "code",
   "execution_count": 2,
   "metadata": {},
   "outputs": [],
   "source": [
    "#### GRADIENT DESCENT CODE GOES HERE ####\n",
    "\n",
    "# using an automatic differentiator - like the one imported via the statement below - makes coding up gradient descent a breeze\n",
    "\n",
    "# gradient descent function - inputs: g (input function), alpha (steplength parameter), max_its (maximum number of iterations), w (initialization)\n",
    "def gradient_descent(g,alpha_choice,max_its,w):\n",
    "    # compute the gradient function of our input function - note this is a function too\n",
    "    # that - when evaluated - returns both the gradient and function evaluations (remember\n",
    "    # as discussed in Chapter 3 we always ge the function evaluation 'for free' when we use\n",
    "    # an Automatic Differntiator to evaluate the gradient)\n",
    "    gradient = value_and_grad(g)\n",
    "\n",
    "    # run the gradient descent loop\n",
    "    weight_history = []      # container for weight history\n",
    "    cost_history = []        # container for corresponding cost function history\n",
    "    alpha = 0\n",
    "    for k in range(1,max_its+1):\n",
    "        # check if diminishing steplength rule used\n",
    "        if alpha_choice == 'diminishing':\n",
    "            alpha = 1/float(k)\n",
    "        else:\n",
    "            alpha = alpha_choice\n",
    "        \n",
    "        # evaluate the gradient, store current weights and cost function value\n",
    "        cost_eval,grad_eval = gradient(w)\n",
    "        weight_history.append(w)\n",
    "        cost_history.append(cost_eval)\n",
    "\n",
    "        # take gradient descent step\n",
    "        w = w - alpha*grad_eval\n",
    "            \n",
    "    # collect final weights\n",
    "    weight_history.append(w)\n",
    "    # compute final cost function value via g itself (since we aren't computing \n",
    "    # the gradient at the final step we don't get the final cost function value \n",
    "    # via the Automatic Differentiatoor) \n",
    "    cost_history.append(g(w))  \n",
    "    return weight_history,cost_history"
   ]
  },
  {
   "cell_type": "markdown",
   "metadata": {},
   "source": [
    "Next run gradient descent to minimize the following function\n",
    "\n",
    "\\begin{equation}\n",
    "g(w) = \\frac{1}{50}\\left(w^4 + w^2 + 10w\\right)\n",
    "\\end{equation}\n",
    "\n",
    "with an initial point $w_0 = 2$ and $1000$ iterations.  Run gradient descent 3 times with 3 different choices: $\\alpha = 1$, $\\alpha = 10^{-1}$, $\\alpha = 10^{-2}$.\n",
    "\n",
    "Plot the resulting `cost_history` of each run in a single plot to compare their performance.  Which steplength value works best for this particular function and initial point?"
   ]
  },
  {
   "cell_type": "code",
   "execution_count": 3,
   "metadata": {},
   "outputs": [],
   "source": [
    "# create the input function\n",
    "g = lambda w: 1/float(50)*(w**4 + w**2 + 10*w)   "
   ]
  },
  {
   "cell_type": "code",
   "execution_count": 4,
   "metadata": {},
   "outputs": [],
   "source": [
    "# RUN GRADIENT DESCENT TO MINIMIZE THIS FUNCTION\n",
    "\n",
    "weight_history1, cost_history1 = gradient_descent(g, 1, 1000, 2.0)\n",
    "weight_history2, cost_history2 = gradient_descent(g, 10**-1, 1000, 2.0)\n",
    "weight_history3, cost_history3 = gradient_descent(g, 10**-2, 1000, 2.0)"
   ]
  },
  {
   "cell_type": "code",
   "execution_count": 5,
   "metadata": {},
   "outputs": [
    {
     "data": {
      "image/png": "[encoded data removed]",
      "text/plain": [
       "<matplotlib.figure.Figure at 0x16d6651bb38>"
      ]
     },
     "metadata": {},
     "output_type": "display_data"
    }
   ],
   "source": [
    "# COST FUNCTION HISTORY PLOTTER GOES HERE\n",
    "from matplotlib import gridspec\n",
    "\n",
    "# initialize figure\n",
    "fig = plt.figure(figsize = (18,7))\n",
    "\n",
    "# create subplot with 1 panel\n",
    "gs = gridspec.GridSpec(1,3)\n",
    "ax1 = plt.subplot(gs[0]);\n",
    "ax2 = plt.subplot(gs[1]);\n",
    "ax3 = plt.subplot(gs[2]);\n",
    "\n",
    "ax1.plot(cost_history1,'o')\n",
    "ax1.set_xlabel(r'step $\\mathbf{k}$')\n",
    "ax1.set_ylabel(r'$g(\\mathbf{w^k})$')\n",
    "ax1.set_title(r'$\\alpha = 1.0$')\n",
    "\n",
    "ax2.plot(cost_history2,'o')\n",
    "ax2.set_xlabel(r'step $\\mathbf{k}$')\n",
    "ax2.set_ylabel(r'$g(\\mathbf{w^k})$')\n",
    "ax2.set_title(r'$\\alpha = 10^{-1}$')\n",
    "\n",
    "ax3.plot(cost_history3,'o')\n",
    "ax3.set_xlabel(r'step $\\mathbf{k}$')\n",
    "ax3.set_ylabel(r'$g(\\mathbf{w^k})$')\n",
    "ax3.set_title(r'$\\alpha = 10^{-2}$')\n",
    "plt.show()"
   ]
  },
  {
   "cell_type": "code",
   "execution_count": null,
   "metadata": {},
   "outputs": [],
   "source": []
  }
 ],
 "metadata": {
  "anaconda-cloud": {},
  "kernelspec": {
   "display_name": "Python 3",
   "language": "python",
   "name": "python3"
  },
  "language_info": {
   "codemirror_mode": {
    "name": "ipython",
    "version": 3
   },
   "file_extension": ".py",
   "mimetype": "text/x-python",
   "name": "python",
   "nbconvert_exporter": "python",
   "pygments_lexer": "ipython3",
   "version": "3.6.4"
  },
  "toc": {
   "colors": {
    "hover_highlight": "#DAA520",
    "navigate_num": "#000000",
    "navigate_text": "#333333",
    "running_highlight": "#FF0000",
    "selected_highlight": "#FFD700",
    "sidebar_border": "#EEEEEE",
    "wrapper_background": "#FFFFFF"
   },
   "moveMenuLeft": true,
   "nav_menu": {
    "height": "30px",
    "width": "252px"
   },
   "navigate_menu": true,
   "number_sections": false,
   "sideBar": true,
   "threshold": 4,
   "toc_cell": false,
   "toc_section_display": "block",
   "toc_window_display": false,
   "widenNotebook": false
  }
 },
 "nbformat": 4,
 "nbformat_minor": 1
}
